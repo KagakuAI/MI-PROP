{
 "cells": [
  {
   "cell_type": "code",
   "execution_count": 1,
   "id": "0fd13898-ba4f-468e-a5dc-768bfd12a6bf",
   "metadata": {},
   "outputs": [],
   "source": [
    "import numpy as np"
   ]
  },
  {
   "cell_type": "code",
   "execution_count": null,
   "id": "dd555ac1-5e19-41b4-9c5a-aeba712ff97b",
   "metadata": {},
   "outputs": [],
   "source": [
    "res_2d = pd.read_csv('bench_results/CHEMBL243_2D_SIL.csv', index_col='Unnamed: 0')\n",
    "res_sil = pd.read_csv('bench_results/CHEMBL243_3D_SIL.csv', index_col='Unnamed: 0')\n",
    "#\n",
    "res_mil = pd.read_csv('bench_results/CHEMBL243_3D_MIL.csv', index_col='Unnamed: 0')\n",
    "res_mil = res_mil.dropna(axis=1, how='all')\n",
    "#\n",
    "res = pd.concat([res_2d,\n",
    "                 res_sil[res_sil.columns[1:]],\n",
    "                 res_mil[res_mil.columns[1:]]], axis=1)"
   ]
  },
  {
   "cell_type": "code",
   "execution_count": null,
   "id": "33aa1fda-50af-4190-8534-4f9396a50f08",
   "metadata": {},
   "outputs": [],
   "source": [
    "stat = pd.DataFrame()\n",
    "\n",
    "for model in res.columns[1:]:\n",
    "    mae = mean_absolute_error(res['TRUE'], res[model])\n",
    "    r2 = r2_score(res['TRUE'], res[model])\n",
    "    \n",
    "    stat.loc[model, 'MAE'] = mae\n",
    "    stat.loc[model, 'R2'] = r2\n",
    "#\n",
    "stat = stat.round(2)\n",
    "stat = stat.sort_values(by='R2', ascending=False)\n",
    "stat.head(20)"
   ]
  },
  {
   "cell_type": "code",
   "execution_count": null,
   "id": "34917f55-b3d6-496c-b2e6-7e10309cace5",
   "metadata": {},
   "outputs": [],
   "source": []
  },
  {
   "cell_type": "code",
   "execution_count": null,
   "id": "a8623435-ea5e-4238-959f-b5cbe2b20be4",
   "metadata": {},
   "outputs": [],
   "source": []
  },
  {
   "cell_type": "code",
   "execution_count": null,
   "id": "b9da59ed-c0ef-43dd-aa7d-b450b7943ce3",
   "metadata": {},
   "outputs": [],
   "source": []
  }
 ],
 "metadata": {
  "kernelspec": {
   "display_name": "miprop",
   "language": "python",
   "name": "miprop"
  },
  "language_info": {
   "codemirror_mode": {
    "name": "ipython",
    "version": 3
   },
   "file_extension": ".py",
   "mimetype": "text/x-python",
   "name": "python",
   "nbconvert_exporter": "python",
   "pygments_lexer": "ipython3",
   "version": "3.10.15"
  }
 },
 "nbformat": 4,
 "nbformat_minor": 5
}
