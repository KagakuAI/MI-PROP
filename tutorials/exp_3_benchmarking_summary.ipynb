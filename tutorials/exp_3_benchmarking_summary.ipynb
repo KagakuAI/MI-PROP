{
 "cells": [
  {
   "cell_type": "code",
   "execution_count": null,
   "id": "0fd13898-ba4f-468e-a5dc-768bfd12a6bf",
   "metadata": {},
   "outputs": [],
   "source": [
    "import os\n",
    "\n",
    "import numpy as np\n",
    "import pandas as pd\n",
    "\n",
    "from sklearn.metrics import mean_absolute_error, r2_score"
   ]
  },
  {
   "cell_type": "code",
   "execution_count": null,
   "id": "dff4c352-523f-45e7-a9ed-f1ef6cb351e8",
   "metadata": {},
   "outputs": [],
   "source": [
    "datasets = [i.split('_')[0] for i in os.listdir('bench_results')]\n",
    "\n",
    "for i in datasets:\n",
    "    res_2d = pd.read_csv(f'bench_results/{i}_2D_SIL.csv')\n",
    "    res_2d = res_2d.drop('Unnamed: 0', axis=1)\n",
    "    \n",
    "    res_sil = pd.read_csv(f'bench_results/{i}_3D_SIL.csv')\n",
    "    res_mil = pd.read_csv(f'bench_results/{i}_3D_MIL.csv')\n",
    "    # res_mil = res_mil.dropna(axis=1, how='all')\n",
    "    #\n",
    "    res = pd.concat([res_2d,\n",
    "                     res_sil[res_sil.columns[1:]],\n",
    "                     res_mil[res_mil.columns[1:]]], axis=1)"
   ]
  },
  {
   "cell_type": "code",
   "execution_count": null,
   "id": "bb4a4af2-1c11-45e7-b6ac-6f335a44c531",
   "metadata": {},
   "outputs": [],
   "source": []
  },
  {
   "cell_type": "code",
   "execution_count": null,
   "id": "33aa1fda-50af-4190-8534-4f9396a50f08",
   "metadata": {},
   "outputs": [],
   "source": [
    "stat = pd.DataFrame()\n",
    "for model in res.columns[1:]:\n",
    "    mae = mean_absolute_error(res['TRUE'], res[model])\n",
    "    r2 = r2_score(res['TRUE'], res[model])\n",
    "    \n",
    "    stat.loc[model, 'MAE'] = mae\n",
    "    stat.loc[model, 'R2'] = r2\n",
    "#\n",
    "stat = stat.round(2)\n",
    "stat = stat.sort_values(by='R2', ascending=False)\n",
    "stat.head(20)"
   ]
  },
  {
   "cell_type": "code",
   "execution_count": null,
   "id": "a8623435-ea5e-4238-959f-b5cbe2b20be4",
   "metadata": {},
   "outputs": [],
   "source": []
  },
  {
   "cell_type": "code",
   "execution_count": null,
   "id": "b9da59ed-c0ef-43dd-aa7d-b450b7943ce3",
   "metadata": {},
   "outputs": [],
   "source": []
  }
 ],
 "metadata": {
  "kernelspec": {
   "display_name": "miprop",
   "language": "python",
   "name": "miprop"
  },
  "language_info": {
   "codemirror_mode": {
    "name": "ipython",
    "version": 3
   },
   "file_extension": ".py",
   "mimetype": "text/x-python",
   "name": "python",
   "nbconvert_exporter": "python",
   "pygments_lexer": "ipython3",
   "version": "3.10.15"
  }
 },
 "nbformat": 4,
 "nbformat_minor": 5
}
