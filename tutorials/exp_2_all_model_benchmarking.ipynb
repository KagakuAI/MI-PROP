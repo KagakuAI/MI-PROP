{
 "cells": [
  {
   "cell_type": "code",
   "execution_count": 1,
   "id": "4bf45ef3-9604-452b-901a-50e07238b45c",
   "metadata": {},
   "outputs": [],
   "source": [
    "# import os\n",
    "# import shutil\n",
    "# import random\n",
    "# from sklearn.model_selection import train_test_split\n",
    "\n",
    "# bench_dir = 'bench_regression'\n",
    "# if os.path.exists(bench_dir):\n",
    "#     shutil.rmtree(bench_dir)\n",
    "# os.mkdir(bench_dir)\n",
    "\n",
    "# for i in os.listdir('datasets_chembl'):\n",
    "#     with open(os.path.join('datasets_chembl', i), 'r') as f:\n",
    "#         data = f.readlines()\n",
    "#     data_train, data_test = train_test_split(data, test_size=0.2, random_state=42)\n",
    "#     #\n",
    "#     try:\n",
    "#         data_train = random.sample(data_train, k=100)\n",
    "#         data_test = random.sample(data_test, k=20)\n",
    "#     except:\n",
    "#         continue\n",
    "#     #\n",
    "#     data_folder = i.split('.')[0]\n",
    "#     os.mkdir(os.path.join(bench_dir, data_folder))\n",
    "#     #\n",
    "#     with open(os.path.join(bench_dir, data_folder, 'train.csv'), 'w') as f:\n",
    "#         for i in data_train:\n",
    "#             f.write(i)\n",
    "#     #\n",
    "#     with open(os.path.join(bench_dir, data_folder, 'test.csv'), 'w') as f:\n",
    "#         for i in data_test:\n",
    "#             f.write(i)"
   ]
  },
  {
   "cell_type": "code",
   "execution_count": 2,
   "id": "6c4bcf65-f342-4958-8580-0ef5b5765977",
   "metadata": {},
   "outputs": [],
   "source": [
    "import rdkit\n",
    "from rdkit import Chem\n",
    "from rdkit.Chem import AllChem\n",
    "\n",
    "import os \n",
    "import random\n",
    "import shutil\n",
    "import time\n",
    "\n",
    "import numpy as np\n",
    "import pandas as pd\n",
    "\n",
    "from tqdm import tqdm\n",
    "\n",
    "from sklearn.model_selection import train_test_split\n",
    "from sklearn.metrics import r2_score, balanced_accuracy_score\n",
    "\n",
    "import pandas as pd\n",
    "\n",
    "from rdkit import Chem\n",
    "\n",
    "from sklearn.metrics import r2_score, mean_absolute_error, root_mean_squared_error\n",
    "\n",
    "from sklearn.preprocessing import MinMaxScaler\n",
    "\n",
    "from miprop.utils.logging import FailedMolecule, FailedConformer, FailedDescriptor\n",
    "\n",
    "from miprop.utils.utils import df_to_list_of_bags\n",
    "\n",
    "import warnings\n",
    "def warn(*args, **kwargs):\n",
    "    pass\n",
    "warnings.warn = warn"
   ]
  },
  {
   "cell_type": "markdown",
   "id": "065c7faa-4c28-42c1-91d7-ab38aa870ae8",
   "metadata": {},
   "source": [
    "## Benchmark datasets"
   ]
  },
  {
   "cell_type": "code",
   "execution_count": 3,
   "id": "2550c302-d89f-4491-b2ce-66b685591005",
   "metadata": {},
   "outputs": [],
   "source": [
    "def parse_data(data_path):\n",
    "    data = pd.read_csv(data_path, header=None)\n",
    "    \n",
    "    mol_prop_list = []\n",
    "    for smi, prop in zip(data[0], data[1]):\n",
    "        mol = Chem.MolFromSmiles(smi)\n",
    "        mol_prop_list.append((mol, prop))\n",
    "\n",
    "    return mol_prop_list"
   ]
  },
  {
   "cell_type": "code",
   "execution_count": 4,
   "id": "ab5fa900-1b1b-4772-86f1-76e07ef7d5a8",
   "metadata": {},
   "outputs": [],
   "source": [
    "BENCH_DATASETS = 'bench_regression'"
   ]
  },
  {
   "cell_type": "markdown",
   "id": "9234dbfa-257a-4a6e-aaeb-71c57937890f",
   "metadata": {},
   "source": [
    "## 2D models"
   ]
  },
  {
   "cell_type": "code",
   "execution_count": 5,
   "id": "d3490b49-a9ac-4f4d-9720-76a8d6f0d444",
   "metadata": {},
   "outputs": [],
   "source": [
    "from sklearn.linear_model import LinearRegression, Ridge\n",
    "from sklearn.ensemble import RandomForestRegressor\n",
    "from sklearn.svm import SVR\n",
    "from sklearn.neural_network import MLPRegressor"
   ]
  },
  {
   "cell_type": "code",
   "execution_count": 6,
   "id": "a99ff3f8-2f89-4bc8-b6f8-ef31c45c7965",
   "metadata": {},
   "outputs": [],
   "source": [
    "from molfeat.calc import (FPCalculator,\n",
    "                          RDKitDescriptors2D, \n",
    "                          Pharmacophore2D, \n",
    "                          MordredDescriptors, \n",
    "                          CATS, \n",
    "                          ScaffoldKeyCalculator)\n",
    "\n",
    "from molfeat.trans import MoleculeTransformer"
   ]
  },
  {
   "cell_type": "code",
   "execution_count": 7,
   "id": "00872bbc-bd49-4cec-9152-c55acafcda6c",
   "metadata": {},
   "outputs": [],
   "source": [
    "method_sil = [\n",
    "              # linear models\n",
    "              #(LinearRegression(), \"LinearRegression\"),\n",
    "              (Ridge(), \"RidgeRegression\"), \n",
    "              (RandomForestRegressor(), \"RandomForestRegressor\"),\n",
    "              (SVR(), \"SVR\"),\n",
    "              (MLPRegressor(), \"MLPRegressor\"),\n",
    "              ]"
   ]
  },
  {
   "cell_type": "code",
   "execution_count": 8,
   "id": "de25e988-7b62-4b13-8101-d12834ea28a3",
   "metadata": {},
   "outputs": [],
   "source": [
    "descr_2d = [\n",
    "            # fingerprints\n",
    "            (FPCalculator(\"atompair\"), \"AtomPairBinary\"),\n",
    "            (FPCalculator(\"atompair-count\"), \"AtomPairCount\"),\n",
    "            (FPCalculator(\"avalon\"), \"AvalonBinary\"),\n",
    "            (FPCalculator(\"ecfp\"), \"ECFPBinary\"),\n",
    "            (FPCalculator(\"ecfp-count\"), \"ECFPCount\"),\n",
    "            (FPCalculator(\"erg\"), \"ERG\"),\n",
    "            (FPCalculator(\"estate\"), \"Estate\"),\n",
    "            (FPCalculator(\"fcfp\"), \"FCFPBinary\"),\n",
    "            (FPCalculator(\"fcfp-count\"), \"FCFPCount\"),\n",
    "            (FPCalculator(\"layered\"), \"Layered\"),\n",
    "            (FPCalculator(\"maccs\"), \"MACCS\"),\n",
    "            (FPCalculator(\"pattern\"), \"Pattern\"),\n",
    "            (FPCalculator(\"rdkit\"), \"RDKitBinary\"),\n",
    "            (FPCalculator(\"rdkit-count\"), \"RDKitCount\"),\n",
    "            (FPCalculator(\"secfp\"), \"SECFP\"),\n",
    "            (FPCalculator(\"topological\"), \"TopologicalBinary\"),\n",
    "            (FPCalculator(\"topological-count\"), \"TopologicalCount\"),\n",
    "            # RDKit\n",
    "            (RDKitDescriptors2D(replace_nan=True), \"RDKitDescriptors2D\"),\n",
    "            # Pmapper\n",
    "            (Pharmacophore2D(replace_nan=True), \"Pharmacophore2D\"),\n",
    "            # Mordred\n",
    "            (MordredDescriptors(replace_nan=True), \"MordredDescriptors\"),\n",
    "            # Scaffold\n",
    "            (ScaffoldKeyCalculator(), \"ScaffoldKey\"),\n",
    "           ]"
   ]
  },
  {
   "cell_type": "code",
   "execution_count": null,
   "id": "0233f8fc-5676-457e-9d31-30f4655ac747",
   "metadata": {
    "scrolled": true
   },
   "outputs": [
    {
     "name": "stdout",
     "output_type": "stream",
     "text": [
      "Total number of single-instance methods: 4\n",
      "Total number of 2D descriptors: 21\n",
      "Total number of 2D models: 84\n"
     ]
    },
    {
     "name": "stderr",
     "output_type": "stream",
     "text": [
      "  0%|               | 0/200 [00:00<?, ?it/s]"
     ]
    }
   ],
   "source": [
    "print(f'Total number of single-instance methods: {len(method_sil)}')\n",
    "print(f'Total number of 2D descriptors: {len(descr_2d)}')\n",
    "print(f'Total number of 2D models: {len(descr_2d) * len(method_sil)}')\n",
    "#\n",
    "res_folder = 'bench_results'\n",
    "if os.path.exists(res_folder):\n",
    "    shutil.rmtree(res_folder)\n",
    "os.mkdir(res_folder)\n",
    "#\n",
    "for dataset in tqdm(os.listdir(BENCH_DATASETS)[:]):\n",
    "    res = pd.DataFrame()\n",
    "    #\n",
    "    mols_train = parse_data(os.path.join(BENCH_DATASETS, dataset, 'train.csv'))\n",
    "    mols_test = parse_data(os.path.join(BENCH_DATASETS, dataset, 'test.csv'))\n",
    "    #\n",
    "    res['TRUE'] = [i[1] for i in mols_test]\n",
    "\n",
    "    # calc 2D descriptors\n",
    "    for descr_func, descr_name in descr_2d:\n",
    "        x_train = np.array(MoleculeTransformer(descr_func)([i[0] for i in mols_train]))\n",
    "        x_test = np.array(MoleculeTransformer(descr_func)([i[0] for i in mols_test]))\n",
    "        y_train = [i[1] for i in mols_train]\n",
    "        y_test = [i[1] for i in mols_test]\n",
    "        #\n",
    "        scaler = MinMaxScaler()\n",
    "        x_train_scaled = scaler.fit_transform(x_train)\n",
    "        x_test_scaled = scaler.transform(x_test)\n",
    "        #\n",
    "        for method_func, method_name in method_sil:\n",
    "            model = method_func.fit(x_train_scaled, y_train)\n",
    "            y_pred = model.predict(x_test_scaled)\n",
    "            #\n",
    "            res[f'2D|None|{descr_name}|{method_name}'] = y_pred\n",
    "            res.to_csv(os.path.join(res_folder, f'{dataset}_2D_SIL.csv'), index=False)"
   ]
  },
  {
   "cell_type": "markdown",
   "id": "60fa31a7-f23f-4f4e-99ca-f2c4594d616d",
   "metadata": {},
   "source": [
    "## 3D models"
   ]
  },
  {
   "cell_type": "code",
   "execution_count": null,
   "id": "0a74ed78-6982-4073-a6d4-e6ff02da6186",
   "metadata": {},
   "outputs": [],
   "source": [
    "from sklearn.linear_model import LinearRegression, Ridge\n",
    "from sklearn.ensemble import RandomForestRegressor\n",
    "from sklearn.svm import SVR\n",
    "from sklearn.neural_network import MLPRegressor"
   ]
  },
  {
   "cell_type": "code",
   "execution_count": null,
   "id": "560dc49a-1e53-481f-bdae-87bd916e951b",
   "metadata": {},
   "outputs": [],
   "source": [
    "from miprop.mil.network.regressor import (AttentionNetworkRegressor,\n",
    "                                          SelfAttentionNetworkRegressor,\n",
    "                                          GatedAttentionNetworkRegressor,\n",
    "                                          TemperatureAttentionNetworkRegressor,\n",
    "                                          GumbelAttentionNetworkRegressor,\n",
    "                                          GlobalTemperatureAttentionNetworkRegressor,\n",
    "                                          DynamicPoolingNetworkRegressor,\n",
    "                                          GaussianPoolingNetworkRegressor,\n",
    "                                          InstanceNetworkRegressor,\n",
    "                                          BagNetworkRegressor)"
   ]
  },
  {
   "cell_type": "code",
   "execution_count": null,
   "id": "d808efc3-1dda-4a69-a139-f2f64c5542ba",
   "metadata": {},
   "outputs": [],
   "source": [
    "from miprop.conformer.rdkit import RDKitConformerGenerator\n",
    "\n",
    "from miprop.descriptor.descriptor_3d.rdkit import (RDKitGEOM, \n",
    "                                                   RDKitAUTOCORR, \n",
    "                                                   RDKitMORSE, \n",
    "                                                   RDKitGETAWAY, \n",
    "                                                   RDKitRDF, \n",
    "                                                   RDKitWHIM)\n",
    "\n",
    "from miprop.descriptor.descriptor_3d.molfeat import (MolFeatPharmacophore, \n",
    "                                                     MolFeatUSRD, \n",
    "                                                     MolFeatElectroShape)\n",
    "from miprop.utils.scaler import BagMinMaxScaler"
   ]
  },
  {
   "cell_type": "code",
   "execution_count": null,
   "id": "58c95dda-2d45-4fef-9874-d94351e5d783",
   "metadata": {},
   "outputs": [],
   "source": [
    "# sil methods\n",
    "method_sil = [\n",
    "              # linear models\n",
    "              #(LinearRegression(), \"LinearRegression\"),\n",
    "              (Ridge(), \"RidgeRegression\"), \n",
    "              (RandomForestRegressor(), \"RandomForestRegressor\"),\n",
    "              (SVR(), \"SVR\"),\n",
    "              (MLPRegressor(), \"MLPRegressor\"),\n",
    "              ]\n",
    "\n",
    "# mil methods\n",
    "hparams = {'hidden_layer_sizes':(256, 128, 64),\n",
    "           'num_epoch':300,\n",
    "           'instance_weight_dropout':0.01,\n",
    "           'init_cuda'=True}\n",
    "\n",
    "method_mil = [\n",
    "              (AttentionNetworkRegressor(**hparams), \"AttentionNetworkRegressor\"),\n",
    "              (SelfAttentionNetworkRegressor(**hparams), \"SelfAttentionNetworkRegressor\"),\n",
    "              (GatedAttentionNetworkRegressor(**hparams), \"GatedAttentionNetworkRegressor\"),\n",
    "              (TemperatureAttentionNetworkRegressor(**hparams), \"TemperatureAttentionNetworkRegressor\"),\n",
    "              (GumbelAttentionNetworkRegressor(**hparams), \"GumbelAttentionNetworkRegressor\"),\n",
    "              (GlobalTemperatureAttentionNetworkRegressor(**hparams), \"GlobalTemperatureAttentionNetworkRegressor\"),\n",
    "              (DynamicPoolingNetworkRegressor(**hparams), \"DynamicPoolingNetworkRegressor\"),\n",
    "              (GaussianPoolingNetworkRegressor(**hparams), \"GaussianPoolingNetworkRegressor\"),\n",
    "              (InstanceNetworkRegressor(**hparams), \"InstanceNetworkRegressor\"),\n",
    "              (BagNetworkRegressor(**hparams), \"BagNetworkRegressor\")\n",
    "]"
   ]
  },
  {
   "cell_type": "code",
   "execution_count": null,
   "id": "ef0b9418-b839-4067-804f-295ed7aab90e",
   "metadata": {},
   "outputs": [],
   "source": [
    "descr_3d = [\n",
    "            # RDKit\n",
    "            (RDKitGEOM(), \"RDKitGEOM\"),\n",
    "            (RDKitAUTOCORR(), \"RDKitAUTOCORR\"),\n",
    "            (RDKitMORSE(), \"RDKitMORSE\"),\n",
    "            (RDKitGETAWAY(), \"RDKitGETAWAY\"),\n",
    "            (RDKitRDF(), \"RDKitRDF\"),\n",
    "            (RDKitWHIM(), \"RDKitWHIM\"),\n",
    "            # MolFeat\n",
    "            (MolFeatPharmacophore(), \"MolFeatPmapper\"),\n",
    "            (MolFeatUSRD(), \"MolFeatUSRD\"),\n",
    "            (MolFeatElectroShape(), \"MolFeatElectroShape\")\n",
    "            ]"
   ]
  },
  {
   "cell_type": "code",
   "execution_count": null,
   "id": "11f8738a-71a9-4b0c-b2c9-f6c4caca1bd4",
   "metadata": {
    "scrolled": true
   },
   "outputs": [],
   "source": [
    "print(f'Total number of single-instance methods: {len(method_sil)}')\n",
    "print(f'Total number of 3D descriptors: {len(descr_3d)}')\n",
    "print(f'Total number of 3D models: {len(descr_3d) * len(method_sil)}')\n",
    "#\n",
    "res_folder = 'bench_results'\n",
    "# if os.path.exists(res_folder):\n",
    "#     shutil.rmtree(res_folder)\n",
    "# os.mkdir(res_folder)\n",
    "#\n",
    "num_conf = 20\n",
    "for dataset in tqdm(os.listdir(BENCH_DATASETS)[:]):\n",
    "    res = pd.DataFrame()\n",
    "    #\n",
    "    mols_train = parse_data(os.path.join(BENCH_DATASETS, dataset, 'train.csv'))\n",
    "    mols_test = parse_data(os.path.join(BENCH_DATASETS, dataset, 'test.csv'))\n",
    "    #\n",
    "    res['TRUE'] = [i[1] for i in mols_test]\n",
    "    # gen conformers\n",
    "    conf_gen = RDKitConformerGenerator(num_conf=num_conf)\n",
    "    #\n",
    "    confs_train, y_train = [], []\n",
    "    for mol_prop_tuple in mols_train:\n",
    "        mol = conf_gen.generate_conformers_for_molecules([mol_prop_tuple[0]])[0]\n",
    "        if not isinstance(mol, FailedConformer):\n",
    "            confs_train.append((mol, mol_prop_tuple[1]))\n",
    "            y_train.append(mol_prop_tuple[1])\n",
    "    \n",
    "    # calc 3D descriptors\n",
    "    for descr_func, descr_name in descr_3d:\n",
    "        x_train = descr_func.transform([i[0] for i in confs_train])\n",
    "        #\n",
    "        scaler = BagMinMaxScaler()\n",
    "        x_train_scaled = scaler.fit(x_train)\n",
    "        x_train_scaled = scaler.transform(x_train)\n",
    "        #\n",
    "        if num_conf == 1:\n",
    "            method_tmp = method_sil\n",
    "            x_train_scaled = np.concatenate(x_train_scaled)\n",
    "            res_file = os.path.join(res_folder, f'{dataset}_3D_SIL.csv')\n",
    "        if num_conf > 1:\n",
    "            method_tmp = method_mil\n",
    "            res_file = os.path.join(res_folder, f'{dataset}_3D_MIL.csv')\n",
    "        #\n",
    "        for method_func, method_name in method_tmp:\n",
    "            model = method_func.fit(x_train_scaled, y_train)\n",
    "            #\n",
    "            y_pred = []\n",
    "            for mol_prop_tuple in mols_test:\n",
    "                mol = conf_gen.generate_conformers_for_molecules([mol_prop_tuple[0]])[0]\n",
    "                if isinstance(mol, FailedConformer):\n",
    "                    y_pred.append(np.mean(y_train))\n",
    "                else:\n",
    "                    x_test = descr_func.transform([mol])\n",
    "                    x_test_scaled = scaler.transform(x_test)\n",
    "                    #\n",
    "                    if num_conf == 1:\n",
    "                        y_pred.append(model.predict(x_test_scaled[0]).item())\n",
    "                    if num_conf > 1:\n",
    "                        y_pred.append(model.predict(x_test_scaled).item())\n",
    "            #\n",
    "            res[f'3D|{num_conf}|{descr_name}|{method_name}'] = y_pred\n",
    "            res.to_csv(res_file, index=False)"
   ]
  },
  {
   "cell_type": "code",
   "execution_count": null,
   "id": "7cbe0ccd-4572-43df-8be3-997457f53e5e",
   "metadata": {},
   "outputs": [],
   "source": []
  },
  {
   "cell_type": "code",
   "execution_count": null,
   "id": "523330f2-de32-477e-accc-309424735eb2",
   "metadata": {},
   "outputs": [],
   "source": []
  },
  {
   "cell_type": "code",
   "execution_count": null,
   "id": "a5afb130-7f11-4415-9138-bba42b87ccf0",
   "metadata": {},
   "outputs": [],
   "source": []
  },
  {
   "cell_type": "code",
   "execution_count": null,
   "id": "b9da59ed-c0ef-43dd-aa7d-b450b7943ce3",
   "metadata": {},
   "outputs": [],
   "source": []
  }
 ],
 "metadata": {
  "kernelspec": {
   "display_name": "miprop",
   "language": "python",
   "name": "miprop"
  },
  "language_info": {
   "codemirror_mode": {
    "name": "ipython",
    "version": 3
   },
   "file_extension": ".py",
   "mimetype": "text/x-python",
   "name": "python",
   "nbconvert_exporter": "python",
   "pygments_lexer": "ipython3",
   "version": "3.10.15"
  }
 },
 "nbformat": 4,
 "nbformat_minor": 5
}
