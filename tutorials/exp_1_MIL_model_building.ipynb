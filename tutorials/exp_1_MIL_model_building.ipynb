{
 "cells": [
  {
   "cell_type": "markdown",
   "metadata": {},
   "source": [
    "# 1. Load dataset"
   ]
  },
  {
   "cell_type": "code",
   "execution_count": 1,
   "metadata": {},
   "outputs": [],
   "source": [
    "import pandas as pd\n",
    "from rdkit import Chem"
   ]
  },
  {
   "cell_type": "code",
   "execution_count": 2,
   "metadata": {},
   "outputs": [],
   "source": [
    "data_train = pd.read_csv('CHEMBL1862_Ki/train.csv', header=None)\n",
    "data_test = pd.read_csv('CHEMBL1862_Ki/test.csv', header=None)"
   ]
  },
  {
   "cell_type": "code",
   "execution_count": 3,
   "metadata": {},
   "outputs": [],
   "source": [
    "smi_train, prop_train = data_train[0].to_list(), data_train[1].to_list()\n",
    "smi_test, prop_test = data_test[0].to_list(), data_test[1].to_list()"
   ]
  },
  {
   "cell_type": "code",
   "execution_count": 4,
   "metadata": {},
   "outputs": [],
   "source": [
    "mols_train, y_train = [], []\n",
    "for smi, prop in zip(smi_train, prop_train):\n",
    "    mol = Chem.MolFromSmiles(smi)\n",
    "    if mol:\n",
    "        mols_train.append(mol)\n",
    "        y_train.append(prop)"
   ]
  },
  {
   "cell_type": "code",
   "execution_count": 5,
   "metadata": {},
   "outputs": [],
   "source": [
    "mols_test, y_test = [], []\n",
    "for smi, prop in zip(smi_test, prop_test):\n",
    "    mol = Chem.MolFromSmiles(smi)\n",
    "    if mol:\n",
    "        mols_test.append(mol)\n",
    "        y_test.append(prop)"
   ]
  },
  {
   "cell_type": "code",
   "execution_count": null,
   "metadata": {},
   "outputs": [],
   "source": []
  },
  {
   "attachments": {},
   "cell_type": "markdown",
   "metadata": {},
   "source": [
    "## 1.5 Reduce the dataset size for faster pipeline reproduction (for playing around)"
   ]
  },
  {
   "cell_type": "code",
   "execution_count": 6,
   "metadata": {},
   "outputs": [],
   "source": [
    "mols_train, y_train = mols_train[:30], y_train[:30]\n",
    "mols_test, y_test = mols_test[:10], y_test[:10]"
   ]
  },
  {
   "cell_type": "markdown",
   "metadata": {},
   "source": [
    "## 2. Conformer generation"
   ]
  },
  {
   "cell_type": "code",
   "execution_count": 7,
   "metadata": {},
   "outputs": [],
   "source": [
    "from miprop.conformer.rdkit import RDKitConformerGenerator\n",
    "\n",
    "from miprop.utils.logging import FailedMolecule, FailedConformer, FailedDescriptor"
   ]
  },
  {
   "cell_type": "code",
   "execution_count": 8,
   "metadata": {},
   "outputs": [],
   "source": [
    "conf_gen = RDKitConformerGenerator(num_conf=20, e_thresh=50, num_cpu=10)"
   ]
  },
  {
   "cell_type": "code",
   "execution_count": 9,
   "metadata": {},
   "outputs": [],
   "source": [
    "confs_train = conf_gen.generate(mols_train)\n",
    "confs_test = conf_gen.generate(mols_test)"
   ]
  },
  {
   "cell_type": "code",
   "execution_count": 10,
   "metadata": {},
   "outputs": [],
   "source": [
    "for n, conf in enumerate(confs_train):\n",
    "    if isinstance(conf, FailedConformer):\n",
    "        print(f'Conformer generation failed for training molecule number {n}')\n",
    "\n",
    "for n, conf in enumerate(confs_test):\n",
    "    if isinstance(conf, FailedConformer):\n",
    "        print(f'Conformer generation failed for test molecule number {n}')"
   ]
  },
  {
   "cell_type": "code",
   "execution_count": null,
   "metadata": {},
   "outputs": [],
   "source": []
  },
  {
   "cell_type": "markdown",
   "metadata": {},
   "source": [
    "# 3. Descriptor calculation"
   ]
  },
  {
   "cell_type": "code",
   "execution_count": 11,
   "metadata": {},
   "outputs": [],
   "source": [
    "from miprop.descriptor.descriptor_3d.rdkit import (RDKitGEOM, \n",
    "                                                   RDKitAUTOCORR, \n",
    "                                                   RDKitMORSE, \n",
    "                                                   RDKitGETAWAY, \n",
    "                                                   RDKitRDF, \n",
    "                                                   RDKitWHIM)\n",
    "\n",
    "from miprop.descriptor.descriptor_3d.molfeat import (MolFeatPharmacophore, \n",
    "                                                     MolFeatUSRD, \n",
    "                                                     MolFeatElectroShape)"
   ]
  },
  {
   "cell_type": "code",
   "execution_count": 12,
   "metadata": {},
   "outputs": [],
   "source": [
    "descr_calc = MolFeatPharmacophore()"
   ]
  },
  {
   "cell_type": "code",
   "execution_count": 13,
   "metadata": {},
   "outputs": [],
   "source": [
    "x_train = descr_calc.transform(confs_train)\n",
    "x_test = descr_calc.transform(confs_test)"
   ]
  },
  {
   "cell_type": "code",
   "execution_count": 14,
   "metadata": {},
   "outputs": [],
   "source": [
    "for n, x in enumerate(x_train):\n",
    "    if isinstance(conf, FailedDescriptor):\n",
    "        print(f'Descriptor calculation failed for training molecule number {n}')\n",
    "\n",
    "for n, x in enumerate(x_test):\n",
    "    if isinstance(conf, FailedDescriptor):\n",
    "        print(f'Descriptor calculation failed for test molecule number {n}')"
   ]
  },
  {
   "cell_type": "code",
   "execution_count": 15,
   "metadata": {},
   "outputs": [
    {
     "data": {
      "text/plain": [
       "(20, 2048)"
      ]
     },
     "execution_count": 15,
     "metadata": {},
     "output_type": "execute_result"
    }
   ],
   "source": [
    "x_train[0].shape"
   ]
  },
  {
   "cell_type": "code",
   "execution_count": null,
   "metadata": {},
   "outputs": [],
   "source": []
  },
  {
   "cell_type": "markdown",
   "metadata": {},
   "source": [
    "## 4. Model training"
   ]
  },
  {
   "cell_type": "code",
   "execution_count": 16,
   "metadata": {},
   "outputs": [],
   "source": [
    "from miprop.mil.network.regressor import (AttentionNetworkRegressor,\n",
    "                                          SelfAttentionNetworkRegressor,\n",
    "                                          GatedAttentionNetworkRegressor,\n",
    "                                          TemperatureAttentionNetworkRegressor,\n",
    "                                          GumbelAttentionNetworkRegressor,\n",
    "                                          GlobalTemperatureAttentionNetworkRegressor,\n",
    "                                          DynamicPoolingNetworkRegressor,\n",
    "                                          GaussianPoolingNetworkRegressor,\n",
    "                                          InstanceNetworkRegressor,\n",
    "                                          BagNetworkRegressor)\n",
    "\n",
    "from miprop.mil.wrapper.regressor import (InstanceWrapperRegressor, \n",
    "                                          BagWrapperRegressor)\n",
    "\n",
    "from miprop.utils.scaler import BagMinMaxScaler\n",
    "\n",
    "from sklearn.metrics import r2_score, mean_absolute_error\n",
    "\n",
    "from sklearn.linear_model import LinearRegression, Ridge\n",
    "from sklearn.ensemble import RandomForestRegressor\n",
    "from sklearn.svm import SVR\n",
    "from sklearn.neural_network import MLPRegressor"
   ]
  },
  {
   "cell_type": "code",
   "execution_count": 17,
   "metadata": {},
   "outputs": [],
   "source": [
    "scaler = BagMinMaxScaler()\n",
    "\n",
    "scaler.fit(x_train)\n",
    "\n",
    "x_train_scaled = scaler.transform(x_train)\n",
    "x_test_scaled = scaler.transform(x_test)"
   ]
  },
  {
   "cell_type": "code",
   "execution_count": 18,
   "metadata": {},
   "outputs": [],
   "source": [
    "hparams = {\n",
    "           'hidden_layer_sizes':(256, 128, 64),\n",
    "           'num_epoch':300,\n",
    "           'batch_size':128,\n",
    "           'learning_rate':0.001,\n",
    "           'weight_decay':0.001,\n",
    "           'instance_weight_dropout':0.1,\n",
    "           'init_cuda':True,\n",
    "           'verbose':False}"
   ]
  },
  {
   "cell_type": "code",
   "execution_count": 19,
   "metadata": {},
   "outputs": [
    {
     "name": "stdout",
     "output_type": "stream",
     "text": [
      "0.49830859899520874\n"
     ]
    }
   ],
   "source": [
    "model = AttentionNetworkRegressor(**hparams)\n",
    "model.fit(x_train_scaled, y_train)\n",
    "\n",
    "y_pred = model.predict(x_test_scaled)\n",
    "\n",
    "print(r2_score(y_test, y_pred))"
   ]
  },
  {
   "cell_type": "code",
   "execution_count": 20,
   "metadata": {},
   "outputs": [
    {
     "name": "stdout",
     "output_type": "stream",
     "text": [
      "0.5815784931182861\n"
     ]
    }
   ],
   "source": [
    "model = DynamicPoolingNetworkRegressor(**hparams)\n",
    "model.fit(x_train_scaled, y_train)\n",
    "\n",
    "y_pred = model.predict(x_test_scaled)\n",
    "\n",
    "print(r2_score(y_test, y_pred))"
   ]
  },
  {
   "cell_type": "code",
   "execution_count": 21,
   "metadata": {},
   "outputs": [
    {
     "name": "stdout",
     "output_type": "stream",
     "text": [
      "0.34112732395979206\n"
     ]
    }
   ],
   "source": [
    "model = InstanceWrapperRegressor(MLPRegressor())\n",
    "model.fit(x_train_scaled, y_train)\n",
    "\n",
    "y_pred = model.predict(x_test_scaled)\n",
    "\n",
    "print(r2_score(y_test, y_pred))"
   ]
  },
  {
   "cell_type": "code",
   "execution_count": null,
   "metadata": {},
   "outputs": [],
   "source": []
  },
  {
   "cell_type": "markdown",
   "metadata": {},
   "source": [
    "## 5. Predict instance weights"
   ]
  },
  {
   "cell_type": "code",
   "execution_count": 22,
   "metadata": {},
   "outputs": [
    {
     "data": {
      "text/plain": [
       "array([0.05, 0.05, 0.05, 0.05, 0.05, 0.05, 0.05, 0.05, 0.05, 0.05, 0.05,\n",
       "       0.05, 0.05, 0.05, 0.05, 0.05, 0.05, 0.05, 0.05, 0.05],\n",
       "      dtype=float32)"
      ]
     },
     "execution_count": 22,
     "metadata": {},
     "output_type": "execute_result"
    }
   ],
   "source": [
    "model = AttentionNetworkRegressor(instance_weight_dropout=0.01)\n",
    "model.fit(x_train_scaled, y_train)\n",
    "\n",
    "y_pred = model.predict(x_test_scaled)\n",
    "w_pred = model.get_instance_weights(x_test_scaled)\n",
    "\n",
    "w_pred[1].round(2)"
   ]
  },
  {
   "cell_type": "code",
   "execution_count": 23,
   "metadata": {},
   "outputs": [
    {
     "data": {
      "text/plain": [
       "array([0. , 0.5, 0. , 0. , 0. , 0. , 0. , 0. , 0. , 0. , 0. , 0. , 0. ,\n",
       "       0. , 0. , 0. , 0. , 0.5, 0. , 0. ], dtype=float32)"
      ]
     },
     "execution_count": 23,
     "metadata": {},
     "output_type": "execute_result"
    }
   ],
   "source": [
    "model = AttentionNetworkRegressor(instance_weight_dropout=0.90)\n",
    "model.fit(x_train_scaled, y_train)\n",
    "\n",
    "y_pred = model.predict(x_test_scaled)\n",
    "w_pred = model.get_instance_weights(x_test_scaled)\n",
    "\n",
    "w_pred[1].round(2)"
   ]
  },
  {
   "cell_type": "code",
   "execution_count": 24,
   "metadata": {},
   "outputs": [
    {
     "data": {
      "text/plain": [
       "array([0.02, 0.12, 0.09, 0.04, 0.05, 0.08, 0.07, 0.02, 0.07, 0.04, 0.01,\n",
       "       0.05, 0.06, 0.03, 0.02, 0.02, 0.03, 0.11, 0.05, 0.02],\n",
       "      dtype=float32)"
      ]
     },
     "execution_count": 24,
     "metadata": {},
     "output_type": "execute_result"
    }
   ],
   "source": [
    "model = DynamicPoolingNetworkRegressor(instance_weight_dropout=0.90)\n",
    "model.fit(x_train_scaled, y_train)\n",
    "\n",
    "y_pred = model.predict(x_test_scaled)\n",
    "w_pred = model.get_instance_weights(x_test_scaled)\n",
    "\n",
    "w_pred[1].round(2)"
   ]
  }
 ],
 "metadata": {
  "kernelspec": {
   "display_name": "miprop",
   "language": "python",
   "name": "miprop"
  },
  "language_info": {
   "codemirror_mode": {
    "name": "ipython",
    "version": 3
   },
   "file_extension": ".py",
   "mimetype": "text/x-python",
   "name": "python",
   "nbconvert_exporter": "python",
   "pygments_lexer": "ipython3",
   "version": "3.10.15"
  }
 },
 "nbformat": 4,
 "nbformat_minor": 4
}
