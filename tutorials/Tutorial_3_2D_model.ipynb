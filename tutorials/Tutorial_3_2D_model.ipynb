{
 "cells": [
  {
   "cell_type": "markdown",
   "metadata": {},
   "source": [
    "# 1. Load dataset"
   ]
  },
  {
   "cell_type": "code",
   "execution_count": 1,
   "metadata": {},
   "outputs": [],
   "source": [
    "import pandas as pd\n",
    "from rdkit import Chem"
   ]
  },
  {
   "cell_type": "code",
   "execution_count": 2,
   "metadata": {},
   "outputs": [],
   "source": [
    "data_train = pd.read_csv('CHEMBL1862_Ki/train.csv', header=None)\n",
    "data_test = pd.read_csv('CHEMBL1862_Ki/test.csv', header=None)"
   ]
  },
  {
   "cell_type": "code",
   "execution_count": 3,
   "metadata": {},
   "outputs": [],
   "source": [
    "smi_train, prop_train = data_train[0].to_list(), data_train[1].to_list()\n",
    "smi_test, prop_test = data_test[0].to_list(), data_test[1].to_list()"
   ]
  },
  {
   "cell_type": "code",
   "execution_count": 4,
   "metadata": {},
   "outputs": [],
   "source": [
    "mols_train, y_train = [], []\n",
    "for smi, prop in zip(smi_train, prop_train):\n",
    "    mol = Chem.MolFromSmiles(smi)\n",
    "    if mol:\n",
    "        mols_train.append(mol)\n",
    "        y_train.append(prop)"
   ]
  },
  {
   "cell_type": "code",
   "execution_count": 5,
   "metadata": {},
   "outputs": [],
   "source": [
    "mols_test, y_test = [], []\n",
    "for smi, prop in zip(smi_test, prop_test):\n",
    "    mol = Chem.MolFromSmiles(smi)\n",
    "    if mol:\n",
    "        mols_test.append(mol)\n",
    "        y_test.append(prop)"
   ]
  },
  {
   "cell_type": "code",
   "execution_count": null,
   "metadata": {},
   "outputs": [],
   "source": []
  },
  {
   "attachments": {},
   "cell_type": "markdown",
   "metadata": {},
   "source": [
    "## 1.5 Reduce the dataset size for faster pipeline reproduction (for playing around)"
   ]
  },
  {
   "cell_type": "code",
   "execution_count": 6,
   "metadata": {},
   "outputs": [],
   "source": [
    "mols_train, y_train = mols_train[:30], y_train[:30]\n",
    "mols_test, y_test = mols_test[:10], y_test[:10]"
   ]
  },
  {
   "cell_type": "markdown",
   "metadata": {},
   "source": [
    "## 2. Descriptor calcualtion"
   ]
  },
  {
   "cell_type": "code",
   "execution_count": 7,
   "metadata": {},
   "outputs": [],
   "source": [
    "from molfeat.calc import (FPCalculator,\n",
    "                          RDKitDescriptors2D, \n",
    "                          Pharmacophore2D, \n",
    "                          MordredDescriptors, \n",
    "                          CATS, \n",
    "                          ScaffoldKeyCalculator)\n",
    "\n",
    "from molfeat.trans import MoleculeTransformer"
   ]
  },
  {
   "cell_type": "code",
   "execution_count": 8,
   "metadata": {},
   "outputs": [],
   "source": [
    "descr_2d = [\n",
    "            # fingerprints\n",
    "            (FPCalculator(\"atompair\"), \"AtomPairBinary\"),\n",
    "            (FPCalculator(\"atompair-count\"), \"AtomPairCount\"),\n",
    "            (FPCalculator(\"avalon\"), \"AvalonBinary\"),\n",
    "            (FPCalculator(\"ecfp\"), \"ECFPBinary\"),\n",
    "            (FPCalculator(\"ecfp-count\"), \"ECFPCount\"),\n",
    "            (FPCalculator(\"erg\"), \"ERG\"),\n",
    "            (FPCalculator(\"estate\"), \"Estate\"),\n",
    "            (FPCalculator(\"fcfp\"), \"FCFPBinary\"),\n",
    "            (FPCalculator(\"fcfp-count\"), \"FCFPCount\"),\n",
    "            (FPCalculator(\"layered\"), \"Layered\"),\n",
    "            (FPCalculator(\"maccs\"), \"MACCS\"),\n",
    "            (FPCalculator(\"pattern\"), \"Pattern\"),\n",
    "            (FPCalculator(\"rdkit\"), \"RDKitBinary\"),\n",
    "            (FPCalculator(\"rdkit-count\"), \"RDKitCount\"),\n",
    "            (FPCalculator(\"secfp\"), \"SECFP\"),\n",
    "            (FPCalculator(\"topological\"), \"TopologicalBinary\"),\n",
    "            (FPCalculator(\"topological-count\"), \"TopologicalCount\"),\n",
    "\n",
    "            # long\n",
    "            (RDKitDescriptors2D(replace_nan=True), \"RDKitDescriptors2D\"),\n",
    "            (Pharmacophore2D(replace_nan=True), \"Pharmacophore2D\"),\n",
    "            (MordredDescriptors(replace_nan=True), \"MordredDescriptors\"),\n",
    "            (ScaffoldKeyCalculator(), \"ScaffoldKey\"),\n",
    "           ]"
   ]
  },
  {
   "cell_type": "code",
   "execution_count": 9,
   "metadata": {},
   "outputs": [],
   "source": [
    "descr_func = FPCalculator(\"atompair\")\n",
    "descr_calc = MoleculeTransformer(descr_func)"
   ]
  },
  {
   "cell_type": "code",
   "execution_count": 10,
   "metadata": {},
   "outputs": [],
   "source": [
    "x_train = descr_calc.transform(mols_train)\n",
    "x_test = descr_calc.transform(mols_test)"
   ]
  },
  {
   "cell_type": "markdown",
   "metadata": {},
   "source": [
    "# 3. Model training"
   ]
  },
  {
   "cell_type": "code",
   "execution_count": 11,
   "metadata": {},
   "outputs": [],
   "source": [
    "from sklearn.preprocessing import MinMaxScaler\n",
    "\n",
    "\n",
    "from sklearn.linear_model import LinearRegression, Ridge\n",
    "from sklearn.ensemble import RandomForestRegressor\n",
    "from sklearn.svm import SVR\n",
    "from sklearn.neural_network import MLPRegressor\n",
    "\n",
    "from sklearn.metrics import r2_score, mean_absolute_error"
   ]
  },
  {
   "cell_type": "code",
   "execution_count": 12,
   "metadata": {},
   "outputs": [],
   "source": [
    "scaler = MinMaxScaler()\n",
    "\n",
    "scaler.fit(x_train)\n",
    "\n",
    "x_train_scaled = scaler.transform(x_train)\n",
    "x_test_scaled = scaler.transform(x_test)"
   ]
  },
  {
   "cell_type": "code",
   "execution_count": 13,
   "metadata": {},
   "outputs": [
    {
     "name": "stdout",
     "output_type": "stream",
     "text": [
      "0.6988896040353259\n"
     ]
    }
   ],
   "source": [
    "model = LinearRegression()\n",
    "model.fit(x_train_scaled, y_train)\n",
    "\n",
    "y_pred = model.predict(x_test_scaled)\n",
    "\n",
    "print(r2_score(y_test, y_pred))"
   ]
  },
  {
   "cell_type": "code",
   "execution_count": 14,
   "metadata": {},
   "outputs": [
    {
     "name": "stdout",
     "output_type": "stream",
     "text": [
      "0.44418313958614286\n"
     ]
    }
   ],
   "source": [
    "model = RandomForestRegressor()\n",
    "model.fit(x_train_scaled, y_train)\n",
    "\n",
    "y_pred = model.predict(x_test_scaled)\n",
    "\n",
    "print(r2_score(y_test, y_pred))"
   ]
  },
  {
   "cell_type": "code",
   "execution_count": 15,
   "metadata": {},
   "outputs": [
    {
     "name": "stdout",
     "output_type": "stream",
     "text": [
      "0.5076568951287848\n"
     ]
    }
   ],
   "source": [
    "model = SVR()\n",
    "model.fit(x_train_scaled, y_train)\n",
    "\n",
    "y_pred = model.predict(x_test_scaled)\n",
    "\n",
    "print(r2_score(y_test, y_pred))"
   ]
  },
  {
   "cell_type": "code",
   "execution_count": null,
   "metadata": {},
   "outputs": [],
   "source": []
  }
 ],
 "metadata": {
  "kernelspec": {
   "display_name": "miprop",
   "language": "python",
   "name": "miprop"
  },
  "language_info": {
   "codemirror_mode": {
    "name": "ipython",
    "version": 3
   },
   "file_extension": ".py",
   "mimetype": "text/x-python",
   "name": "python",
   "nbconvert_exporter": "python",
   "pygments_lexer": "ipython3",
   "version": "3.10.16"
  }
 },
 "nbformat": 4,
 "nbformat_minor": 4
}
